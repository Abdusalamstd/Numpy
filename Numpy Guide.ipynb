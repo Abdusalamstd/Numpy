{
 "cells": [
  {
   "cell_type": "markdown",
   "metadata": {},
   "source": [
    "# ئاساس Python Numpy"
   ]
  },
  {
   "cell_type": "markdown",
   "metadata": {},
   "source": [
    "## 0.تەييارلىق"
   ]
  },
  {
   "cell_type": "markdown",
   "metadata": {},
   "source": [
    "####   قاچىلاش ۋە قوزغۇتۇش jupyter"
   ]
  },
  {
   "cell_type": "markdown",
   "metadata": {},
   "source": [
    "#### يۇپيتېرنى قاچىلاشتىن ئىلگىرى پايسون3 قاچىلانغان  بولۇشى كىرەك\n",
    "##### Windows10 cmd  \n",
    "Install  : pip install jupyter  \n",
    "Start-up : jupyter notebook  \n",
    "##### Anaaconda  \n",
    "Install  : conda install jupyter notebook  \n",
    "Start-up : jupyter notebook  "
   ]
  },
  {
   "cell_type": "markdown",
   "metadata": {},
   "source": [
    "## 1 . قاچىلاش : pip install numpy"
   ]
  },
  {
   "cell_type": "markdown",
   "metadata": {},
   "source": [
    "## 2.چاقىرىش"
   ]
  },
  {
   "cell_type": "code",
   "execution_count": 127,
   "metadata": {},
   "outputs": [],
   "source": [
    "import numpy as np"
   ]
  },
  {
   "cell_type": "markdown",
   "metadata": {},
   "source": [
    "## 3.ئاساس Basic"
   ]
  },
  {
   "cell_type": "code",
   "execution_count": 128,
   "metadata": {},
   "outputs": [
    {
     "name": "stdout",
     "output_type": "stream",
     "text": [
      "[1 2 3]\n"
     ]
    }
   ],
   "source": [
    "a = np.array([1,2,3], dtype='int32')\n",
    "print(a)\n",
    "## data type = int32"
   ]
  },
  {
   "cell_type": "code",
   "execution_count": 129,
   "metadata": {},
   "outputs": [
    {
     "name": "stdout",
     "output_type": "stream",
     "text": [
      "[[9. 8. 7.]\n",
      " [6. 5. 4.]]\n"
     ]
    }
   ],
   "source": [
    "b = np.array([[9.0,8.0,7.0],[6.0,5.0,4.0]])\n",
    "print(b)\n",
    "## data type = float64 默认"
   ]
  },
  {
   "cell_type": "code",
   "execution_count": 130,
   "metadata": {},
   "outputs": [
    {
     "name": "stdout",
     "output_type": "stream",
     "text": [
      "1\n",
      "2\n"
     ]
    }
   ],
   "source": [
    "# ئۆلچىمىنى كۆرۈش\n",
    "print(a.ndim)\n",
    "print(b.ndim)"
   ]
  },
  {
   "cell_type": "code",
   "execution_count": 131,
   "metadata": {},
   "outputs": [
    {
     "name": "stdout",
     "output_type": "stream",
     "text": [
      "(3,)\n",
      "(2, 3)\n"
     ]
    }
   ],
   "source": [
    "# تۈزۈلۈش شەكلى(كۆلىمىنى)نى كۆرۈش\n",
    "print(a.shape)\n",
    "print(b.shape)"
   ]
  },
  {
   "cell_type": "code",
   "execution_count": 132,
   "metadata": {},
   "outputs": [
    {
     "name": "stdout",
     "output_type": "stream",
     "text": [
      "int32\n",
      "float64\n"
     ]
    }
   ],
   "source": [
    "# ئېلمىنىت تىپىنى كۆرۈش\n",
    "print(a.dtype)\n",
    "print(b.dtype)"
   ]
  },
  {
   "cell_type": "code",
   "execution_count": 133,
   "metadata": {},
   "outputs": [
    {
     "name": "stdout",
     "output_type": "stream",
     "text": [
      "4\n",
      "8\n",
      "\n",
      "12\n",
      "48\n",
      "\n",
      "3\n",
      "3.0\n"
     ]
    }
   ],
   "source": [
    "# چوڭلۇقىنى كۆرۈش\n",
    "print(a.itemsize)\n",
    "print(b.itemsize)\n",
    "\n",
    "print()\n",
    "\n",
    "# بارلىق چوڭلۇقىنى كۆرۈش\n",
    "print(a.nbytes)\n",
    "print(b.nbytes)\n",
    "\n",
    "# ئېلمىېنىتلار سانى\n",
    "print()\n",
    "print(a.size)\n",
    "print(a.nbytes/a.itemsize)"
   ]
  },
  {
   "cell_type": "markdown",
   "metadata": {},
   "source": [
    "## 4.رەت ۋە سىتونلىرىنى قايتا تەرتىپلەش ۋە تىزىش"
   ]
  },
  {
   "cell_type": "code",
   "execution_count": 134,
   "metadata": {},
   "outputs": [
    {
     "name": "stdout",
     "output_type": "stream",
     "text": [
      "[[ 1  2  3  4  5  6  7]\n",
      " [ 8  9 10 11 12 13 14]]\n"
     ]
    }
   ],
   "source": [
    "a = np.array([[1,2,3,4,5,6,7],[8,9,10,11,12,13,14]])\n",
    "print(a)"
   ]
  },
  {
   "cell_type": "code",
   "execution_count": 135,
   "metadata": {},
   "outputs": [
    {
     "name": "stdout",
     "output_type": "stream",
     "text": [
      "1\n",
      "6\n",
      "13\n"
     ]
    }
   ],
   "source": [
    "# ئالاھېدە ئورۇندىكى ئېلنىتىنى كۆرۈش\n",
    "\n",
    "print(a[0,0])\n",
    "print(a[0,5])\n",
    "print(a[1,5])"
   ]
  },
  {
   "cell_type": "code",
   "execution_count": 136,
   "metadata": {},
   "outputs": [
    {
     "name": "stdout",
     "output_type": "stream",
     "text": [
      "[1 2 3 4 5 6 7]\n",
      "[1 8]\n",
      "\n",
      "[ 3 10]\n"
     ]
    }
   ],
   "source": [
    "# ئالاھېدە قۇر ۋە سىتونلىرىنى بىرلا كۆرۈش\n",
    "\n",
    "print(a[0,:])      # بىرىنچى قۇر\n",
    "print(a[:,0])      # بىرىنچى سىتون\n",
    "print()\n",
    "print(a[:,2])      #ئىككىنچى سىتون"
   ]
  },
  {
   "cell_type": "code",
   "execution_count": 137,
   "metadata": {},
   "outputs": [
    {
     "name": "stdout",
     "output_type": "stream",
     "text": [
      "[[ 1  2  3  4  5  6  7]\n",
      " [ 8  9 10 11 12 13 14]]\n",
      "\n",
      "[2 4 6]\n"
     ]
    }
   ],
   "source": [
    "# خاس قۇر ياكى سىتونلىرىنى كۆرۈش\n",
    "\n",
    "print(a)\n",
    "print()\n",
    "# [startindex:endindex:stepsize]\n",
    "print(a[0,1:-1:2])\n",
    "# بىرىنچى قۇردىن،ئىككىنچى ئېلمىنتتىن باشلاپ ئاخىردىن سانىغاندىكى ئىككىنچى ئېلمىنىتقىچە ھەر ئىككى قەسەم ئاتلىغاندىكى ئېلمىنتلار"
   ]
  },
  {
   "cell_type": "markdown",
   "metadata": {},
   "source": [
    "## ئۈچ ئۆلچەملىك ماترىسسا"
   ]
  },
  {
   "cell_type": "code",
   "execution_count": 138,
   "metadata": {},
   "outputs": [
    {
     "name": "stdout",
     "output_type": "stream",
     "text": [
      "[[[1 2]\n",
      "  [3 4]]\n",
      "\n",
      " [[5 6]\n",
      "  [7 8]]]\n"
     ]
    }
   ],
   "source": [
    "b = np.array([[[1,2],[3,4]],[[5,6],[7,8]]])\n",
    "print(b)"
   ]
  },
  {
   "cell_type": "code",
   "execution_count": 139,
   "metadata": {},
   "outputs": [
    {
     "name": "stdout",
     "output_type": "stream",
     "text": [
      "4\n",
      "8\n"
     ]
    }
   ],
   "source": [
    "# ئېندىكىسلاپ خاس ئېلمىتىلىرىنى كۆرۈش\n",
    "print(b[0,1,1])\n",
    "print(b[1,1,1])"
   ]
  },
  {
   "cell_type": "code",
   "execution_count": 140,
   "metadata": {},
   "outputs": [
    {
     "name": "stdout",
     "output_type": "stream",
     "text": [
      "[[[1 2]\n",
      "  [3 4]]\n",
      "\n",
      " [[5 6]\n",
      "  [7 8]]]\n",
      "-----------------------\n",
      "[[[1 2]\n",
      "  [9 9]]\n",
      "\n",
      " [[5 6]\n",
      "  [8 8]]]\n"
     ]
    }
   ],
   "source": [
    "# ئېلمىنىتلارنى ئالماشتۇرۇش\n",
    "print(b)\n",
    "print(\"-----------------------\")\n",
    "b[:,1,:] = [[9,9],[8,8]]\n",
    "print(b)"
   ]
  },
  {
   "cell_type": "markdown",
   "metadata": {},
   "source": [
    "## ئالاھېدە ماترىسسالار"
   ]
  },
  {
   "cell_type": "code",
   "execution_count": 141,
   "metadata": {},
   "outputs": [
    {
     "data": {
      "text/plain": [
       "array([[0, 0, 0, 0],\n",
       "       [0, 0, 0, 0],\n",
       "       [0, 0, 0, 0]])"
      ]
     },
     "execution_count": 141,
     "metadata": {},
     "output_type": "execute_result"
    }
   ],
   "source": [
    "# نۆل ماترىسسا\n",
    "np.zeros([3,4],dtype='int32')     # np.zeros((3,4),dtype='int32')"
   ]
  },
  {
   "cell_type": "code",
   "execution_count": 142,
   "metadata": {},
   "outputs": [
    {
     "name": "stdout",
     "output_type": "stream",
     "text": [
      "[[1 1 1 1]\n",
      " [1 1 1 1]\n",
      " [1 1 1 1]]\n",
      "------------------------\n",
      "[[[1 1 1 1]\n",
      "  [1 1 1 1]\n",
      "  [1 1 1 1]]\n",
      "\n",
      " [[1 1 1 1]\n",
      "  [1 1 1 1]\n",
      "  [1 1 1 1]]]\n"
     ]
    }
   ],
   "source": [
    "# بىر ماترىسسا\n",
    "print(np.ones([3,4],dtype='int32'))     # np.ones((3,4),dtype='int32')\n",
    "print(\"------------------------\")\n",
    "print(np.ones([2,3,4],dtype='int32'))     # np.ones((2,3,4),dtype='int32')"
   ]
  },
  {
   "cell_type": "code",
   "execution_count": 143,
   "metadata": {},
   "outputs": [
    {
     "name": "stdout",
     "output_type": "stream",
     "text": [
      "[[99 99 99 99]\n",
      " [99 99 99 99]\n",
      " [99 99 99 99]]\n"
     ]
    }
   ],
   "source": [
    "# ئالاھىدە سان تولدۇرۇلغان ماترىسسا\n",
    "# np.full(size,number)\n",
    "\n",
    "print(np.full([3,4],99))    # np.full((3,4),99)"
   ]
  },
  {
   "cell_type": "code",
   "execution_count": 144,
   "metadata": {},
   "outputs": [
    {
     "name": "stdout",
     "output_type": "stream",
     "text": [
      "[[ 1  2  3  4  5  6  7]\n",
      " [ 8  9 10 11 12 13 14]]\n",
      "---------------------------\n"
     ]
    },
    {
     "data": {
      "text/plain": [
       "array([[4, 4, 4, 4, 4, 4, 4],\n",
       "       [4, 4, 4, 4, 4, 4, 4]])"
      ]
     },
     "execution_count": 144,
     "metadata": {},
     "output_type": "execute_result"
    }
   ],
   "source": [
    "# باشقا ماترىسسىغا ئوخشاش كۆلەمدە سان تولدۇرۇش\n",
    "print(a)\n",
    "print(\"---------------------------\")\n",
    "np.full_like(a, 4)"
   ]
  },
  {
   "cell_type": "code",
   "execution_count": 145,
   "metadata": {},
   "outputs": [
    {
     "name": "stdout",
     "output_type": "stream",
     "text": [
      "[[0.2353494  0.4123137 ]\n",
      " [0.17289768 0.44002922]\n",
      " [0.81088531 0.01156963]\n",
      " [0.45841134 0.13829674]]\n"
     ]
    }
   ],
   "source": [
    "# خالىغان قىممەتتىكى ماترىسىنى ھاسىل قىلىش\n",
    "\n",
    "# np.random.rand(size)  ئېلمىنىتلىرى 0~1 بولغان خالىغان قىممەت\n",
    "\n",
    "print(np.random.rand(4,2))"
   ]
  },
  {
   "cell_type": "code",
   "execution_count": 146,
   "metadata": {},
   "outputs": [
    {
     "name": "stdout",
     "output_type": "stream",
     "text": [
      "[[3 2 3]\n",
      " [5 3 4]\n",
      " [5 5 2]]\n"
     ]
    }
   ],
   "source": [
    "# np.random.randint(a,b, size) \n",
    "# بولغان خالىغان پۈتۈن سانلىق قىممەتتىكى ماترىسسا a~b ئېلمىنىتلىرى\n",
    "\n",
    "print(np.random.randint(2,6, size=(3,3)))"
   ]
  },
  {
   "cell_type": "code",
   "execution_count": 147,
   "metadata": {},
   "outputs": [
    {
     "name": "stdout",
     "output_type": "stream",
     "text": [
      "[[1 0 0 0 0]\n",
      " [0 1 0 0 0]\n",
      " [0 0 1 0 0]\n",
      " [0 0 0 1 0]\n",
      " [0 0 0 0 1]]\n"
     ]
    }
   ],
   "source": [
    "# بىرلىك ماترىسسا(بىر ماترىسسا ئەمەس)\n",
    "# np.identity(size,dtype='')\n",
    "\n",
    "print(np.identity(5,dtype='int32'))"
   ]
  },
  {
   "cell_type": "code",
   "execution_count": 148,
   "metadata": {},
   "outputs": [
    {
     "name": "stdout",
     "output_type": "stream",
     "text": [
      "[[1 2 3]]\n",
      "------------------------\n",
      "[[1 2 3]\n",
      " [1 2 3]\n",
      " [1 2 3]\n",
      " [1 2 3]\n",
      " [1 2 3]]\n"
     ]
    }
   ],
   "source": [
    "# تەكرارلاش\n",
    "ar = np.array([[1,2,3]])\n",
    "print(ar)\n",
    "print(\"------------------------\")\n",
    "# np.repeat(array, repeat-times, axis=0)\n",
    "br = np.repeat(ar,5, axis=0)\n",
    "print(br)"
   ]
  },
  {
   "cell_type": "code",
   "execution_count": 149,
   "metadata": {},
   "outputs": [
    {
     "name": "stdout",
     "output_type": "stream",
     "text": [
      "[1 2 3]\n",
      "[100   2   3]\n"
     ]
    }
   ],
   "source": [
    "# نۇسخىلاش\n",
    "\n",
    "a = np.array([1,2,3])\n",
    "b = a.copy()\n",
    "b[0] = 100\n",
    "print(a)\n",
    "print(b)"
   ]
  },
  {
   "cell_type": "markdown",
   "metadata": {},
   "source": [
    "## ماتىماتىكىلىق ھېساپلاشلار"
   ]
  },
  {
   "cell_type": "code",
   "execution_count": 150,
   "metadata": {},
   "outputs": [
    {
     "name": "stdout",
     "output_type": "stream",
     "text": [
      "[1 2 3 4]\n",
      "[1 0 1 0]\n",
      "---------------------\n",
      "[3 4 5 6]\n",
      "[-1  0  1  2]\n",
      "[2 4 6 8]\n",
      "[0.5 1.  1.5 2. ]\n",
      "[ 1  4  9 16]\n",
      "------------------------\n",
      "[2 2 4 4]\n",
      "[0 2 2 4]\n",
      "[1 0 3 0]\n"
     ]
    }
   ],
   "source": [
    "# ئاساس\n",
    "a = np.array([1,2,3,4])\n",
    "b = np.array([1,0,1,0])\n",
    "\n",
    "print(a)\n",
    "print(b)\n",
    "print(\"---------------------\")\n",
    "print(a+2)\n",
    "print(a-2)\n",
    "print(a*2)\n",
    "print(a/2)\n",
    "print(a**2)\n",
    "print(\"------------------------\")\n",
    "print(a+b)\n",
    "print(a-b)\n",
    "print(a*b)"
   ]
  },
  {
   "cell_type": "code",
   "execution_count": 151,
   "metadata": {},
   "outputs": [
    {
     "name": "stdout",
     "output_type": "stream",
     "text": [
      "[1 2 3 4]\n",
      "---------------------\n",
      "[ 0.54030231 -0.41614684 -0.9899925  -0.65364362]\n",
      "[ 0.84147098  0.90929743  0.14112001 -0.7568025 ]\n",
      "[ 1.55740772 -2.18503986 -0.14254654  1.15782128]\n",
      "------------------------\n",
      "[[1. 1. 1.]\n",
      " [1. 1. 1.]]\n",
      "[[2 2]\n",
      " [2 2]\n",
      " [2 2]]\n",
      "سىزىقلىق ئالگېبرالىق كۆپەيتىشلەر\n",
      "[[6. 6.]\n",
      " [6. 6.]]\n",
      "\n",
      "[[6. 6.]\n",
      " [6. 6.]]\n"
     ]
    }
   ],
   "source": [
    "# تىرگونۇمىترىيەلىك فۇنكىسيە ۋە باشقا فۇنكىسيەلەر\n",
    "\n",
    "print(a)\n",
    "print(\"---------------------\")\n",
    "print(np.cos(a))\n",
    "print(np.sin(a))\n",
    "print(np.tan(a))\n",
    "# .....\n",
    "\n",
    "print(\"------------------------\")\n",
    "a = np.ones((2,3))\n",
    "print(a)\n",
    "b = np.full((3,2), 2)\n",
    "print(b)\n",
    "print(\"سىزىقلىق ئالگېبرالىق كۆپەيتىشلەر\")\n",
    "print(a.dot(b))\n",
    "print()\n",
    "print(np.matmul(a,b))"
   ]
  },
  {
   "cell_type": "code",
   "execution_count": 152,
   "metadata": {},
   "outputs": [
    {
     "name": "stdout",
     "output_type": "stream",
     "text": [
      "[[6 9 8]\n",
      " [8 9 4]\n",
      " [1 7 3]]\n",
      "\n",
      "190.0\n"
     ]
    }
   ],
   "source": [
    "# كۇۋادىرات ماترىسسانىڭ دېترمىنانتىنى تېپىش\n",
    "\n",
    "c = np.random.randint(1,10,size=(3,3))\n",
    "print(c)\n",
    "print()\n",
    "print(np.linalg.det(c))\n",
    "\n",
    "# Determinant\n",
    "# Trace\n",
    "# Singular Vector Decomposition\n",
    "# Eigenvalues\n",
    "# Matrix Norm\n",
    "# Inverse\n",
    "# Etc..."
   ]
  },
  {
   "cell_type": "markdown",
   "metadata": {},
   "source": [
    "## سىتاستىكىلىق ھېساپلاش"
   ]
  },
  {
   "cell_type": "code",
   "execution_count": 153,
   "metadata": {},
   "outputs": [
    {
     "name": "stdout",
     "output_type": "stream",
     "text": [
      "[[1 2 3]\n",
      " [4 5 6]]\n",
      "----------------------\n",
      "1\n",
      "[1 2 3]\n",
      "[1 4]\n",
      "\n",
      "6\n",
      "\n",
      "21\n",
      "[5 7 9]\n",
      "[ 6 15]\n"
     ]
    }
   ],
   "source": [
    "st = np.array([[1,2,3],[4,5,6]])\n",
    "print(st)\n",
    "print(\"----------------------\")\n",
    "print(np.min(st)) # ئەڭ كىچىك ئېلمىنىت\n",
    "print(np.min(st,axis=0)) # ھەر قايسى سىتوندىكى ئەڭ كىچىك ئېلمىنىتلار\n",
    "print(np.min(st,axis=1)) # ئىككىنچى قۇردىكى ئەڭ كىچىك ئېلمىنتلار\n",
    "print()\n",
    "print(np.max(st)) # ئەڭ چوڭ ئېلمىنت\n",
    "print()\n",
    "print(np.sum(st)) #ئېلمىنىتلار يىغىندىسى\n",
    "print(np.sum(st,axis=0)) # ھەرقايسى سىتوندىكى ئېلمىنىتلار يىغىندىسى\n",
    "print(np.sum(st,axis=1)) #..........."
   ]
  },
  {
   "cell_type": "code",
   "execution_count": 154,
   "metadata": {},
   "outputs": [
    {
     "name": "stdout",
     "output_type": "stream",
     "text": [
      "[[ 1  2  3  4]\n",
      " [ 5  6  7  8]\n",
      " [ 9 10 11 12]]\n",
      "\n",
      "[[ 1  2  3]\n",
      " [ 4  5  6]\n",
      " [ 7  8  9]\n",
      " [10 11 12]]\n"
     ]
    }
   ],
   "source": [
    "# قېلىپلاشتۇرۇش\n",
    "#np.reshape(size)\n",
    "\n",
    "c = np.array([[1,2,3,4],[5,6,7,8],[9,10,11,12]])\n",
    "print(c)\n",
    "print()\n",
    "print(c.reshape((4,3)))"
   ]
  },
  {
   "cell_type": "code",
   "execution_count": 155,
   "metadata": {},
   "outputs": [
    {
     "name": "stdout",
     "output_type": "stream",
     "text": [
      "[[1 2 3 4]\n",
      " [5 6 7 8]\n",
      " [1 2 3 4]\n",
      " [5 6 7 8]]\n",
      "\n",
      "[[1. 1. 1. 1. 0. 0.]\n",
      " [1. 1. 1. 1. 0. 0.]]\n"
     ]
    }
   ],
   "source": [
    "# ۋېرتىكال ۋە گوروزونتاللانغان ماترىسسا\n",
    "\n",
    "# Vertically stacking vectors\n",
    "v1 = np.array([1,2,3,4])\n",
    "v2 = np.array([5,6,7,8])\n",
    "print(np.vstack([v1,v2,v1,v2]))\n",
    "\n",
    "print()\n",
    "\n",
    "# Horizontal  stack\n",
    "h1 = np.ones((2,4))\n",
    "h2 = np.zeros((2,2))\n",
    "print(np.hstack((h1,h2)))"
   ]
  },
  {
   "cell_type": "code",
   "execution_count": 156,
   "metadata": {},
   "outputs": [],
   "source": [
    "# ھۆجقەتتىن ئوقۇش\n",
    "\n",
    "#filedata = np.genfromtxt('data.txt', delimiter=',')\n",
    "#filedata = filedata.astype('int32')\n",
    "#print(filedata)\n",
    "# (~((filedata > 50) & (filedata < 100)))"
   ]
  },
  {
   "cell_type": "code",
   "execution_count": null,
   "metadata": {},
   "outputs": [],
   "source": []
  },
  {
   "cell_type": "code",
   "execution_count": null,
   "metadata": {},
   "outputs": [],
   "source": []
  }
 ],
 "metadata": {
  "kernelspec": {
   "display_name": "Python 3",
   "language": "python",
   "name": "python3"
  },
  "language_info": {
   "codemirror_mode": {
    "name": "ipython",
    "version": 3
   },
   "file_extension": ".py",
   "mimetype": "text/x-python",
   "name": "python",
   "nbconvert_exporter": "python",
   "pygments_lexer": "ipython3",
   "version": "3.7.1"
  }
 },
 "nbformat": 4,
 "nbformat_minor": 4
}
